{
 "cells": [
  {
   "cell_type": "code",
   "execution_count": 1,
   "metadata": {
    "scrolled": true
   },
   "outputs": [],
   "source": [
    "from sklearn.model_selection import train_test_split\n",
    "from mxnet import autograd,gluon,init,nd\n",
    "from mxnet.gluon import nn\n",
    "from collections import Counter\n",
    "from sklearn.metrics import accuracy_score\n",
    "from mxnet.gluon.data.vision import transforms\n",
    "\n",
    "import mxnet as mx\n",
    "import pandas as pd\n",
    "import numpy as np\n",
    "import os\n",
    "import time\n",
    "import matplotlib.pyplot as plt\n"
   ]
  },
  {
   "cell_type": "code",
   "execution_count": 2,
   "metadata": {},
   "outputs": [],
   "source": [
    "# define the input path and file\n",
    "data_dir = '../data'\n",
    "output_dir = '../outputs'\n",
    "model_dir = '../model'\n",
    "x_file = 'image-train.txt'\n",
    "y_file = 'label-train.txt'\n",
    "params_file = 'lenet.params'\n",
    "test_file = 'test-data.txt'\n",
    "output2_file = 'y2.out'"
   ]
  },
  {
   "cell_type": "code",
   "execution_count": 3,
   "metadata": {},
   "outputs": [],
   "source": [
    "# initialize hyper parameter\n",
    "lr,num_epochs,batch_size,dropout,ctx = 0.001, 80, 128, 0.4,mx.gpu()"
   ]
  },
  {
   "cell_type": "code",
   "execution_count": 4,
   "metadata": {},
   "outputs": [],
   "source": [
    "def load_data(data_dir,x_file,y_file):\n",
    "    \"\"\"\n",
    "    Load the training data \n",
    "    Input: directory of data, filename of training image, filename of training label\n",
    "    Output: dataset X in 3D shape, label\n",
    "    \"\"\"\n",
    "    # load the data into data frame\n",
    "    x = pd.read_csv(os.path.join(data_dir, x_file), sep=\" \", header=None)\n",
    "    y = pd.read_csv(os.path.join(data_dir, y_file), sep=\" \", header=None)\n",
    "    \n",
    "    # num_data\n",
    "    num_data = len(x)\n",
    "    \n",
    "    # transform the data into ndarray\n",
    "    X = x.iloc[:, :].astype(int).values\n",
    "    # define the size of one picture\n",
    "    size = np.sqrt(X.shape[1]).astype(int)\n",
    "    image_shape = (size,size)\n",
    "\n",
    "    X = X.reshape((-1,size,size,1))\n",
    "\n",
    "    Y = y.iloc[:, :].astype(int).values\n",
    "    Y = Y.reshape((num_data,)).astype(np.float32)\n",
    "    \n",
    "    print(\"The shape of X is: %s\" % str(X.shape))\n",
    "    print(\"The shape of Y is: %s\" % str(Y.shape))\n",
    "    return X,Y"
   ]
  },
  {
   "cell_type": "code",
   "execution_count": 5,
   "metadata": {},
   "outputs": [],
   "source": [
    "def Array2Data(x_array,y_array,batch_size=128,isTrain=False):\n",
    "    \"\"\"\n",
    "    Transform the raw data to the format of data in gluon\n",
    "    Input: training images, training labels, batch size, flag for training(can be used for train or test)\n",
    "    Output: data for training and prediction in gluon\n",
    "    \"\"\"\n",
    "    mx_x_array = nd.array(x_array)\n",
    "    mx_y_array = nd.array(y_array)\n",
    "    dataset = gluon.data.dataset.ArrayDataset(mx_x_array,mx_y_array)\n",
    "    \n",
    "    # Converts an image NDArray of shape (H x W x C) in the range [0, 255] \n",
    "    #to a float32 tensor NDArray of shape (C x H x W) in the range [0, 1).\n",
    "    transformer = transforms.ToTensor()\n",
    "    gluonData = gluon.data.DataLoader(dataset.transform_first(transformer),batch_size=batch_size,shuffle=isTrain)\n",
    "    \n",
    "    return gluonData"
   ]
  },
  {
   "cell_type": "code",
   "execution_count": 6,
   "metadata": {},
   "outputs": [],
   "source": [
    "# Build a simple convolutional network\n",
    "def build_lenet(net):\n",
    "    \"\"\"\n",
    "    Build up the structure of LeNet\n",
    "    Input: neural network basic (No architecture at all)\n",
    "    Output: neural network with architecture\n",
    "    \"\"\"\n",
    "    with net.name_scope():\n",
    "        # First convolution\n",
    "        net.add(gluon.nn.Conv2D(channels=20, kernel_size=5, activation='relu'))\n",
    "        net.add(gluon.nn.MaxPool2D(pool_size=2, strides=2))\n",
    "        # Second convolution\n",
    "        net.add(gluon.nn.Conv2D(channels=50, kernel_size=5, activation='relu'))\n",
    "        net.add(gluon.nn.MaxPool2D(pool_size=2, strides=2))\n",
    "        # Flatten the output before the fully connected layers\n",
    "        net.add(gluon.nn.Flatten())\n",
    "        # First fully connected layers with 512 neurons\n",
    "        net.add(gluon.nn.Dense(120, activation=\"relu\"))\n",
    "        net.add(gluon.nn.Dense(84, activation=\"relu\"))\n",
    "        net.add(gluon.nn.Dropout(0.1))\n",
    "        # Second fully connected layer with as many neurons as the number of classes\n",
    "        net.add(gluon.nn.Dense(10))\n",
    "\n",
    "        return net\n"
   ]
  },
  {
   "cell_type": "code",
   "execution_count": 7,
   "metadata": {},
   "outputs": [],
   "source": [
    "def plot_learningcurves(loss_tr,loss_ts, acc_tr,acc_ts):\n",
    "    \"\"\"\n",
    "    Plot the learning curve of loss and accuracy vs epochs\n",
    "    Input: loss and accuracy of training and validation(test)\n",
    "    Output: Plot of learning curve\n",
    "    \"\"\"\n",
    "    xs = list(range(len(loss_tr)))\n",
    "\n",
    "    f = plt.figure(figsize=(12,6))\n",
    "    fg1 = f.add_subplot(121)\n",
    "    fg2 = f.add_subplot(122)\n",
    "\n",
    "    fg1.set_xlabel('epoch',fontsize=14)\n",
    "    fg1.set_title('Comparing loss functions')\n",
    "    fg1.semilogy(xs, loss_tr)\n",
    "    fg1.semilogy(xs, loss_ts)\n",
    "    fg1.grid(True,which=\"both\")\n",
    "\n",
    "    fg1.legend(['training loss', 'validation loss'],fontsize=14)\n",
    "\n",
    "    fg2.set_title('Comparing accuracy')\n",
    "    fg2.set_xlabel('epoch',fontsize=14)\n",
    "    fg2.plot(xs, acc_tr)\n",
    "    fg2.plot(xs, acc_ts)\n",
    "    fg2.grid(True,which=\"both\")\n",
    "    fg2.legend(['training accuracy', 'validation accuracy'],fontsize=14)\n",
    "    "
   ]
  },
  {
   "cell_type": "code",
   "execution_count": 8,
   "metadata": {},
   "outputs": [],
   "source": [
    "def evaluate_accuracy(data_iterator, net):\n",
    "    \"\"\"\n",
    "    Calculate the accuracy and loss of a dataset\n",
    "    Input: data in gluon format, model\n",
    "    Output: accuracy and loss\n",
    "    \"\"\"\n",
    "    numerator = 0.\n",
    "    denominator = 0.\n",
    "    loss_avg = 0.\n",
    "    # Use cross entropy loss\n",
    "    softmax_cross_entropy = gluon.loss.SoftmaxCrossEntropyLoss()\n",
    "    for i, (data, label) in enumerate(data_iterator):\n",
    "        data = data.as_in_context(ctx)\n",
    "        label = label.as_in_context(ctx)\n",
    "        output = net(data)\n",
    "        loss = softmax_cross_entropy(output, label)\n",
    "        predictions = nd.argmax(output, axis=1)\n",
    "        numerator += nd.sum(predictions == label)\n",
    "        denominator += data.shape[0]\n",
    "        loss_avg = loss_avg*i/(i+1) + nd.mean(loss).asscalar()/(i+1)\n",
    "    return (numerator / denominator).asscalar(), loss_avg\n"
   ]
  },
  {
   "cell_type": "code",
   "execution_count": 9,
   "metadata": {},
   "outputs": [],
   "source": [
    "def train_model(model,train_data,valid_data):\n",
    "    \"\"\"\n",
    "    Training the CNN\n",
    "    Input: model, training data, validation data\n",
    "    Outptu: The final loss and accuracy of training and validation set\n",
    "    \"\"\"\n",
    "    # Initialize the parameters with Xavier initializer\n",
    "    model.collect_params().initialize(mx.init.Xavier(), ctx=ctx)\n",
    "    # Use cross entropy loss\n",
    "    softmax_cross_entropy = gluon.loss.SoftmaxCrossEntropyLoss()\n",
    "    # Use Adam optimizer\n",
    "    trainer = gluon.Trainer(model.collect_params(), 'adam', {'learning_rate': lr})\n",
    "\n",
    "    loss_seq_train = []\n",
    "    loss_seq_validation = []\n",
    "    acc_seq_train = []\n",
    "    acc_seq_validation = []\n",
    "\n",
    "    \n",
    "    # Train for one epoch\n",
    "    for epoch in range(num_epochs+1):\n",
    "        train_loss, train_acc, valid_acc = 0., 0., 0.\n",
    "        # Iterate through the images and labels in the training data\n",
    "        for batch_num, (data, label) in enumerate(train_data):\n",
    "            # get the images and labels\n",
    "            data = data.as_in_context(ctx)\n",
    "            label = label.as_in_context(ctx)\n",
    "            # Ask autograd to record the forward pass\n",
    "            with autograd.record():\n",
    "                # Run the forward pass\n",
    "                output = model(data)\n",
    "                # Compute the loss\n",
    "                loss = softmax_cross_entropy(output, label)\n",
    "            # Compute gradients\n",
    "            loss.backward()\n",
    "            # Update parameters\n",
    "            trainer.step(data.shape[0])\n",
    "        \n",
    "        validation_accuracy, validation_loss = evaluate_accuracy(valid_data, net)\n",
    "        train_accuracy, train_loss = evaluate_accuracy(train_data, net)\n",
    "        # save them for later\n",
    "        loss_seq_train.append(train_loss)\n",
    "        loss_seq_validation.append(validation_loss)\n",
    "        acc_seq_train.append(train_accuracy)\n",
    "        acc_seq_validation.append(validation_accuracy)\n",
    "\n",
    "        if epoch % 2 == 0:\n",
    "            curr_loss = nd.mean(loss).asscalar()\n",
    "            print(\"Epoch: %d; Train Loss %f,Train_accuracy %f,Validation Loss %f, Valid_accuracy %f\" % (epoch,train_loss,train_accuracy,validation_loss,validation_accuracy))\n",
    "    \n",
    "    ## Plotting the learning curves\n",
    "    plot_learningcurves(loss_seq_train,loss_seq_validation,acc_seq_train,acc_seq_validation)\n",
    "    plt.savefig(os.path.join(output_dir,'learning_curve.png'))\n",
    "    \n",
    "    return train_loss,validation_loss,train_accuracy,validation_accuracy"
   ]
  },
  {
   "cell_type": "code",
   "execution_count": 10,
   "metadata": {},
   "outputs": [],
   "source": [
    "def output_pred(output_dir,filename,error,pred_vec):\n",
    "    \"\"\"\n",
    "    Output the prediction\n",
    "    Input: Directory of output, filename of output, training error, prediction of test set\n",
    "    Output: file including classification error and predition of test set\n",
    "    \"\"\"\n",
    "    output_path = os.path.join(output_dir, filename)\n",
    "    with open(output_path,\"w\") as fd:\n",
    "        fd.write('%f\\n' % error)\n",
    "        for pred in pred_vec:\n",
    "            fd.write('%d\\n' % pred.astype(np.int32))\n",
    "    print(\"Finish output!\")"
   ]
  },
  {
   "cell_type": "code",
   "execution_count": 11,
   "metadata": {},
   "outputs": [
    {
     "name": "stdout",
     "output_type": "stream",
     "text": [
      "The shape of X is: (40000, 28, 28, 1)\n",
      "The shape of Y is: (40000,)\n"
     ]
    }
   ],
   "source": [
    "# Load in the data and transformation to proper format\n",
    "X,Y = load_data(data_dir,x_file,y_file)\n",
    "\n",
    "train_X,valid_X,train_Y,valid_Y = train_test_split(X,Y,test_size = 0.05, shuffle = True,random_state=42)\n",
    "train_data = Array2Data(train_X,train_Y,isTrain=True)\n",
    "valid_data = Array2Data(valid_X,valid_Y)"
   ]
  },
  {
   "cell_type": "code",
   "execution_count": 12,
   "metadata": {},
   "outputs": [
    {
     "name": "stdout",
     "output_type": "stream",
     "text": [
      "Epoch: 0; Train Loss 0.455805,Train_accuracy 0.833263,Validation Loss 0.450884, Valid_accuracy 0.833000\n",
      "Epoch: 2; Train Loss 0.314073,Train_accuracy 0.885447,Validation Loss 0.328436, Valid_accuracy 0.878500\n",
      "Epoch: 4; Train Loss 0.260674,Train_accuracy 0.901711,Validation Loss 0.284510, Valid_accuracy 0.894000\n",
      "Epoch: 6; Train Loss 0.209960,Train_accuracy 0.923868,Validation Loss 0.248799, Valid_accuracy 0.912500\n",
      "Epoch: 8; Train Loss 0.175595,Train_accuracy 0.934737,Validation Loss 0.230075, Valid_accuracy 0.916000\n",
      "Epoch: 10; Train Loss 0.132863,Train_accuracy 0.954447,Validation Loss 0.203323, Valid_accuracy 0.931000\n",
      "Epoch: 12; Train Loss 0.106964,Train_accuracy 0.962526,Validation Loss 0.198296, Valid_accuracy 0.931000\n",
      "Epoch: 14; Train Loss 0.088070,Train_accuracy 0.970237,Validation Loss 0.199544, Valid_accuracy 0.941500\n",
      "Epoch: 16; Train Loss 0.072043,Train_accuracy 0.975079,Validation Loss 0.204816, Valid_accuracy 0.935000\n",
      "Epoch: 18; Train Loss 0.054483,Train_accuracy 0.982421,Validation Loss 0.206006, Valid_accuracy 0.937500\n",
      "Epoch: 20; Train Loss 0.045421,Train_accuracy 0.984158,Validation Loss 0.211952, Valid_accuracy 0.948000\n",
      "Epoch: 22; Train Loss 0.042670,Train_accuracy 0.984816,Validation Loss 0.268149, Valid_accuracy 0.935500\n",
      "Epoch: 24; Train Loss 0.030719,Train_accuracy 0.989921,Validation Loss 0.215810, Valid_accuracy 0.946500\n",
      "Epoch: 26; Train Loss 0.030568,Train_accuracy 0.989632,Validation Loss 0.270640, Valid_accuracy 0.943000\n",
      "Epoch: 28; Train Loss 0.019768,Train_accuracy 0.993974,Validation Loss 0.251977, Valid_accuracy 0.945000\n",
      "Epoch: 30; Train Loss 0.021463,Train_accuracy 0.993289,Validation Loss 0.271666, Valid_accuracy 0.944000\n",
      "Epoch: 32; Train Loss 0.022271,Train_accuracy 0.992395,Validation Loss 0.309631, Valid_accuracy 0.946000\n",
      "Epoch: 34; Train Loss 0.027808,Train_accuracy 0.990842,Validation Loss 0.331071, Valid_accuracy 0.939500\n",
      "Epoch: 36; Train Loss 0.037563,Train_accuracy 0.985132,Validation Loss 0.345767, Valid_accuracy 0.935000\n",
      "Epoch: 38; Train Loss 0.038942,Train_accuracy 0.985658,Validation Loss 0.362382, Valid_accuracy 0.937000\n",
      "Epoch: 40; Train Loss 0.025176,Train_accuracy 0.991132,Validation Loss 0.351105, Valid_accuracy 0.942000\n",
      "Epoch: 42; Train Loss 0.012118,Train_accuracy 0.996132,Validation Loss 0.347141, Valid_accuracy 0.942500\n",
      "Epoch: 44; Train Loss 0.032107,Train_accuracy 0.988816,Validation Loss 0.459033, Valid_accuracy 0.936000\n",
      "Epoch: 46; Train Loss 0.021314,Train_accuracy 0.992658,Validation Loss 0.373566, Valid_accuracy 0.943000\n",
      "Epoch: 48; Train Loss 0.012259,Train_accuracy 0.995921,Validation Loss 0.371777, Valid_accuracy 0.944000\n",
      "Epoch: 50; Train Loss 0.012215,Train_accuracy 0.996211,Validation Loss 0.390713, Valid_accuracy 0.944000\n",
      "Epoch: 52; Train Loss 0.010475,Train_accuracy 0.996158,Validation Loss 0.351593, Valid_accuracy 0.950000\n",
      "Epoch: 54; Train Loss 0.018113,Train_accuracy 0.993447,Validation Loss 0.436673, Valid_accuracy 0.946000\n",
      "Epoch: 56; Train Loss 0.014911,Train_accuracy 0.995053,Validation Loss 0.421053, Valid_accuracy 0.943000\n",
      "Epoch: 58; Train Loss 0.011835,Train_accuracy 0.995763,Validation Loss 0.413851, Valid_accuracy 0.942500\n",
      "Epoch: 60; Train Loss 0.007356,Train_accuracy 0.997368,Validation Loss 0.415074, Valid_accuracy 0.948000\n",
      "Epoch: 62; Train Loss 0.010571,Train_accuracy 0.995974,Validation Loss 0.420537, Valid_accuracy 0.939500\n",
      "Epoch: 64; Train Loss 0.015043,Train_accuracy 0.995000,Validation Loss 0.409842, Valid_accuracy 0.946000\n",
      "Epoch: 66; Train Loss 0.005243,Train_accuracy 0.998211,Validation Loss 0.424630, Valid_accuracy 0.948000\n",
      "Epoch: 68; Train Loss 0.008560,Train_accuracy 0.996605,Validation Loss 0.423912, Valid_accuracy 0.945500\n",
      "Epoch: 70; Train Loss 0.006281,Train_accuracy 0.998211,Validation Loss 0.415702, Valid_accuracy 0.947500\n",
      "Epoch: 72; Train Loss 0.001789,Train_accuracy 0.999342,Validation Loss 0.477682, Valid_accuracy 0.949000\n",
      "Epoch: 74; Train Loss 0.008466,Train_accuracy 0.997237,Validation Loss 0.431302, Valid_accuracy 0.944000\n",
      "Epoch: 76; Train Loss 0.021014,Train_accuracy 0.992816,Validation Loss 0.522201, Valid_accuracy 0.937500\n",
      "Epoch: 78; Train Loss 0.006908,Train_accuracy 0.997184,Validation Loss 0.424864, Valid_accuracy 0.947000\n",
      "Epoch: 80; Train Loss 0.008700,Train_accuracy 0.996789,Validation Loss 0.487440, Valid_accuracy 0.942500\n"
     ]
    },
    {
     "data": {
      "image/png": "[encoded data removed]",
      "text/plain": [
       "<Figure size 864x432 with 2 Axes>"
      ]
     },
     "metadata": {
      "needs_background": "light"
     },
     "output_type": "display_data"
    }
   ],
   "source": [
    "# Build up model and begin training\n",
    "net = build_lenet(gluon.nn.Sequential())\n",
    "train_loss,validation_loss,train_accuracy,valid_accuracy = train_model(net,train_data,valid_data)\n"
   ]
  },
  {
   "cell_type": "code",
   "execution_count": 106,
   "metadata": {},
   "outputs": [],
   "source": [
    "# Calculate the classifcation error\n",
    "\n",
    "train_error = 1- train_accuracy\n",
    "validation_error = 1 - valid_accuracy\n",
    "print(train_error)\n",
    "print(validation_error)"
   ]
  },
  {
   "cell_type": "code",
   "execution_count": 113,
   "metadata": {},
   "outputs": [],
   "source": [
    "# save model parameters to file\n",
    "net.save_params(os.path.join(model_dir, params_file))"
   ]
  },
  {
   "cell_type": "code",
   "execution_count": 37,
   "metadata": {},
   "outputs": [],
   "source": [
    "# Load in test set and preprocessing\n",
    "\n",
    "test = pd.read_csv(os.path.join(data_dir, test_file), sep=\" \", header=None)\n",
    "# transform the data into ndarray\n",
    "test_X = test.iloc[:, :].astype(int).values\n",
    "num_sample = test_X.shape[0]\n",
    "# construct a trivial label vector for construction of data in gluon format\n",
    "test_Y = np.ones(num_sample)\n",
    "\n",
    "size = np.sqrt(test_X.shape[1]).astype(int)\n",
    "image_shape = (size,size)\n",
    "test_X = test_X.reshape((-1,size,size,1))\n",
    "test_data = Array2Data(test_X,test_Y,batch_size=num_sample)"
   ]
  },
  {
   "cell_type": "code",
   "execution_count": 40,
   "metadata": {},
   "outputs": [
    {
     "name": "stdout",
     "output_type": "stream",
     "text": [
      "[2. 2. 5. ... 9. 1. 1.]\n"
     ]
    }
   ],
   "source": [
    "# Predictions on the test set\n",
    "for data,label in test_data:\n",
    "    out = net(data.as_in_context(ctx))\n",
    "    test_pred = nd.argmax(out,axis=1).asnumpy()\n",
    "    print(test_pred)"
   ]
  },
  {
   "cell_type": "code",
   "execution_count": 41,
   "metadata": {},
   "outputs": [
    {
     "name": "stdout",
     "output_type": "stream",
     "text": [
      "Finish output!\n"
     ]
    }
   ],
   "source": [
    "# Output the predictions and training error\n",
    "output_pred(output_dir,output2_file,train_error,test_pred)"
   ]
  }
 ],
 "metadata": {
  "kernelspec": {
   "display_name": "Python 3",
   "language": "python",
   "name": "python3"
  },
  "language_info": {
   "codemirror_mode": {
    "name": "ipython",
    "version": 3
   },
   "file_extension": ".py",
   "mimetype": "text/x-python",
   "name": "python",
   "nbconvert_exporter": "python",
   "pygments_lexer": "ipython3",
   "version": "3.6.6"
  }
 },
 "nbformat": 4,
 "nbformat_minor": 2
}
